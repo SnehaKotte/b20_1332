{
  "nbformat": 4,
  "nbformat_minor": 0,
  "metadata": {
    "colab": {
      "provenance": [],
      "authorship_tag": "ABX9TyMmIioIyzKklvJ5iv1wk/wV",
      "include_colab_link": true
    },
    "kernelspec": {
      "name": "python3",
      "display_name": "Python 3"
    },
    "language_info": {
      "name": "python"
    }
  },
  "cells": [
    {
      "cell_type": "markdown",
      "metadata": {
        "id": "view-in-github",
        "colab_type": "text"
      },
      "source": [
        "<a href=\"https://colab.research.google.com/github/SnehaKotte/b20_1332/blob/main/LAB1.ipynb\" target=\"_parent\"><img src=\"https://colab.research.google.com/assets/colab-badge.svg\" alt=\"Open In Colab\"/></a>"
      ]
    },
    {
      "cell_type": "code",
      "execution_count": 11,
      "metadata": {
        "id": "wj5TRz1jGfMO",
        "colab": {
          "base_uri": "https://localhost:8080/"
        },
        "outputId": "037ebec0-1629-41af-c89f-a810f9ec229f"
      },
      "outputs": [
        {
          "output_type": "stream",
          "name": "stdout",
          "text": [
            "enter a numbet:5\n",
            "120\n"
          ]
        }
      ],
      "source": [
        "def fact(x):\n",
        "  fact=1\n",
        "  for i in range(1,x+1):\n",
        "    fact=fact*i\n",
        "  return fact\n",
        "n=int(input(\"enter a numbet:\"))\n",
        "print(fact(n))"
      ]
    }
  ]
}