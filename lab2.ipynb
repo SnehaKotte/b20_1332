{
  "nbformat": 4,
  "nbformat_minor": 0,
  "metadata": {
    "colab": {
      "provenance": [],
      "authorship_tag": "ABX9TyO1qaK2r+X1KxoGFfmN5yLZ",
      "include_colab_link": true
    },
    "kernelspec": {
      "name": "python3",
      "display_name": "Python 3"
    },
    "language_info": {
      "name": "python"
    }
  },
  "cells": [
    {
      "cell_type": "markdown",
      "metadata": {
        "id": "view-in-github",
        "colab_type": "text"
      },
      "source": [
        "<a href=\"https://colab.research.google.com/github/SnehaKotte/b20_1332/blob/main/lab2.ipynb\" target=\"_parent\"><img src=\"https://colab.research.google.com/assets/colab-badge.svg\" alt=\"Open In Colab\"/></a>"
      ]
    },
    {
      "cell_type": "code",
      "execution_count": 1,
      "metadata": {
        "colab": {
          "base_uri": "https://localhost:8080/"
        },
        "id": "S5Y61sR64E9_",
        "outputId": "21969974-6181-4f87-b094-ed942bda7c1d"
      },
      "outputs": [
        {
          "output_type": "stream",
          "name": "stdout",
          "text": [
            "[[96 56 80]\n",
            " [67 89 78]\n",
            " [90 67 56]\n",
            " [89 90 78]\n",
            " [67 45 34]]\n"
          ]
        }
      ],
      "source": [
        "import numpy as np\n",
        "Marks=np.array([[96,56,80],[67,89,78],[90,67,56],[89,90,78],[67,45,34]])\n",
        "print(Marks)\n"
      ]
    },
    {
      "cell_type": "code",
      "source": [
        "avg_marks = Marks.mean(axis=1)\n",
        "min_marks = Marks.min(axis=1)\n",
        "max_marks = Marks.max(axis=1)\n",
        "print(\"\\nAverage marks per student:\", avg_marks)\n",
        "print(\"Minimum marks per student:\", min_marks)\n",
        "print(\"Maximum marks per student:\", max_marks)\n",
        ""
      ],
      "metadata": {
        "colab": {
          "base_uri": "https://localhost:8080/"
        },
        "id": "mKj1MJmy4lsG",
        "outputId": "6fed885e-31da-4111-8f36-51e6d7a22760"
      },
      "execution_count": 2,
      "outputs": [
        {
          "output_type": "stream",
          "name": "stdout",
          "text": [
            "\n",
            "Average marks per student: [77.33333333 78.         71.         85.66666667 48.66666667]\n",
            "Minimum marks per student: [56 67 56 78 34]\n",
            "Maximum marks per student: [96 89 90 90 67]\n"
          ]
        }
      ]
    },
    {
      "cell_type": "code",
      "source": [
        "print(\"\\nMarks of Students 2 to 4:\\n\", Marks[1:4])"
      ],
      "metadata": {
        "colab": {
          "base_uri": "https://localhost:8080/"
        },
        "id": "wDCEXEvk4sAF",
        "outputId": "f0a3d888-4814-486d-ccd9-6e29d0feb3a6"
      },
      "execution_count": 3,
      "outputs": [
        {
          "output_type": "stream",
          "name": "stdout",
          "text": [
            "\n",
            "Marks of Students 2 to 4:\n",
            " [[67 89 78]\n",
            " [90 67 56]\n",
            " [89 90 78]]\n"
          ]
        }
      ]
    },
    {
      "cell_type": "code",
      "source": [
        "above_80 = Marks[(Marks > 80).all(axis=1)]\n",
        "print(\"\\nStudents scoring above 80 in all subjects:\\n\", above_80)\n"
      ],
      "metadata": {
        "colab": {
          "base_uri": "https://localhost:8080/"
        },
        "id": "rx9aX6xx4t66",
        "outputId": "8f33e831-4a32-4409-9860-ceca8ee80bbb"
      },
      "execution_count": 4,
      "outputs": [
        {
          "output_type": "stream",
          "name": "stdout",
          "text": [
            "\n",
            "Students scoring above 80 in all subjects:\n",
            " []\n"
          ]
        }
      ]
    },
    {
      "cell_type": "code",
      "source": [
        "reshaped = Marks.T\n",
        "print(\"\\nSubject-wise performance:\\n\", reshaped)"
      ],
      "metadata": {
        "colab": {
          "base_uri": "https://localhost:8080/"
        },
        "id": "8GuTCLS546Rj",
        "outputId": "24d41e6b-759f-4928-b08a-958ca9fb54bf"
      },
      "execution_count": 5,
      "outputs": [
        {
          "output_type": "stream",
          "name": "stdout",
          "text": [
            "\n",
            "Subject-wise performance:\n",
            " [[96 67 90 89 67]\n",
            " [56 89 67 90 45]\n",
            " [80 78 56 78 34]]\n"
          ]
        }
      ]
    },
    {
      "cell_type": "code",
      "source": [
        "import pandas as pd\n",
        "\n",
        "data = {\n",
        "    'Name': ['Nandhu', 'Arun', 'Vamshi', 'Sneha', 'Srinidhi'],\n",
        "    'ID': [101, 102, 103, 104, 105],\n",
        "    'Department': ['HR', 'IT', 'Finance', 'IT', 'Marketing'],\n",
        "    'Salary': [48000, 55000, 72000, 50000, 65000]\n",
        "}\n",
        "\n",
        "df = pd.DataFrame(data)\n",
        "print(\"Original DataFrame:\\n\", df)"
      ],
      "metadata": {
        "colab": {
          "base_uri": "https://localhost:8080/"
        },
        "id": "LufcUcfD5AKO",
        "outputId": "5803f09d-d2b0-4e00-d9e5-552b6f21e071"
      },
      "execution_count": 6,
      "outputs": [
        {
          "output_type": "stream",
          "name": "stdout",
          "text": [
            "Original DataFrame:\n",
            "        Name   ID Department  Salary\n",
            "0    Nandhu  101         HR   48000\n",
            "1      Arun  102         IT   55000\n",
            "2    Vamshi  103    Finance   72000\n",
            "3     Sneha  104         IT   50000\n",
            "4  Srinidhi  105  Marketing   65000\n"
          ]
        }
      ]
    },
    {
      "cell_type": "code",
      "source": [
        "high_salary = df[df['Salary'] > 50000]\n",
        "print(\"\\nEmployees with Salary > 50,000:\\n\", high_salary)"
      ],
      "metadata": {
        "colab": {
          "base_uri": "https://localhost:8080/"
        },
        "id": "xhwbjsB15Gur",
        "outputId": "bc5092fa-c730-4806-f28f-d27f7b932f54"
      },
      "execution_count": 7,
      "outputs": [
        {
          "output_type": "stream",
          "name": "stdout",
          "text": [
            "\n",
            "Employees with Salary > 50,000:\n",
            "        Name   ID Department  Salary\n",
            "1      Arun  102         IT   55000\n",
            "2    Vamshi  103    Finance   72000\n",
            "4  Srinidhi  105  Marketing   65000\n"
          ]
        }
      ]
    },
    {
      "cell_type": "code",
      "source": [
        "sorted_df = df.sort_values(by='Salary', ascending=False)\n",
        "print(\"\\nSorted by Salary (Descending):\\n\", sorted_df)"
      ],
      "metadata": {
        "colab": {
          "base_uri": "https://localhost:8080/"
        },
        "id": "ge7VFlsM5I6v",
        "outputId": "9d196bdc-bd8a-4cd3-8ce9-bb55e00ee133"
      },
      "execution_count": 8,
      "outputs": [
        {
          "output_type": "stream",
          "name": "stdout",
          "text": [
            "\n",
            "Sorted by Salary (Descending):\n",
            "        Name   ID Department  Salary\n",
            "2    Vamshi  103    Finance   72000\n",
            "4  Srinidhi  105  Marketing   65000\n",
            "1      Arun  102         IT   55000\n",
            "3     Sneha  104         IT   50000\n",
            "0    Nandhu  101         HR   48000\n"
          ]
        }
      ]
    },
    {
      "cell_type": "code",
      "source": [
        "df['Bonus'] = df['Salary'] * 0.10\n",
        "print(\"\\nDataFrame with Bonus:\\n\", df)"
      ],
      "metadata": {
        "colab": {
          "base_uri": "https://localhost:8080/"
        },
        "id": "WOn7rwQm5Qu9",
        "outputId": "1af40cd2-0fc7-49b1-9683-b7a7a8075ae0"
      },
      "execution_count": 9,
      "outputs": [
        {
          "output_type": "stream",
          "name": "stdout",
          "text": [
            "\n",
            "DataFrame with Bonus:\n",
            "        Name   ID Department  Salary   Bonus\n",
            "0    Nandhu  101         HR   48000  4800.0\n",
            "1      Arun  102         IT   55000  5500.0\n",
            "2    Vamshi  103    Finance   72000  7200.0\n",
            "3     Sneha  104         IT   50000  5000.0\n",
            "4  Srinidhi  105  Marketing   65000  6500.0\n"
          ]
        }
      ]
    },
    {
      "cell_type": "code",
      "source": [
        "total_expense = (df['Salary'] + df['Bonus']).sum()\n",
        "print(\"\\nTotal Salary Expense (including bonuses):\", total_expense)\n",
        ""
      ],
      "metadata": {
        "colab": {
          "base_uri": "https://localhost:8080/"
        },
        "id": "4eHhHXJa5WIT",
        "outputId": "8322c2a8-4f06-4960-f96a-be8b0c7b9eb5"
      },
      "execution_count": 10,
      "outputs": [
        {
          "output_type": "stream",
          "name": "stdout",
          "text": [
            "\n",
            "Total Salary Expense (including bonuses): 319000.0\n"
          ]
        }
      ]
    },
    {
      "cell_type": "code",
      "source": [
        "df.to_csv(\"employee_data.csv\", index=False)\n",
        "print(\"\\nData saved to employee_data.csv\")\n",
        ""
      ],
      "metadata": {
        "colab": {
          "base_uri": "https://localhost:8080/"
        },
        "id": "lA9PrFZ95bhO",
        "outputId": "66b6c2f7-31b9-4802-e73c-1bc3c019539a"
      },
      "execution_count": 11,
      "outputs": [
        {
          "output_type": "stream",
          "name": "stdout",
          "text": [
            "\n",
            "Data saved to employee_data.csv\n"
          ]
        }
      ]
    }
  ]
}