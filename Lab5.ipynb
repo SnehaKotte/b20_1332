{
  "nbformat": 4,
  "nbformat_minor": 0,
  "metadata": {
    "colab": {
      "provenance": [],
      "authorship_tag": "ABX9TyMemvv0Y7kPbbbkRM9AdzFg",
      "include_colab_link": true
    },
    "kernelspec": {
      "name": "python3",
      "display_name": "Python 3"
    },
    "language_info": {
      "name": "python"
    }
  },
  "cells": [
    {
      "cell_type": "markdown",
      "metadata": {
        "id": "view-in-github",
        "colab_type": "text"
      },
      "source": [
        "<a href=\"https://colab.research.google.com/github/SnehaKotte/b20_1332/blob/main/Lab5.ipynb\" target=\"_parent\"><img src=\"https://colab.research.google.com/assets/colab-badge.svg\" alt=\"Open In Colab\"/></a>"
      ]
    },
    {
      "cell_type": "code",
      "execution_count": 2,
      "metadata": {
        "colab": {
          "base_uri": "https://localhost:8080/"
        },
        "id": "9gVJQI7uHYxR",
        "outputId": "b878c180-2322-4139-add9-7a0372f19fec"
      },
      "outputs": [
        {
          "output_type": "stream",
          "name": "stdout",
          "text": [
            "Files in /content/sample_data/:\n",
            "['anscombe.json', 'README.md', 'california_housing_test.csv', 'mnist_test.csv', 'mnist_train_small.csv', 'california_housing_train.csv']\n",
            "\n",
            "First few rows of loaded data:\n",
            "   longitude  latitude  housing_median_age  total_rooms  total_bedrooms  \\\n",
            "0    -114.31     34.19                15.0       5612.0          1283.0   \n",
            "1    -114.47     34.40                19.0       7650.0          1901.0   \n",
            "2    -114.56     33.69                17.0        720.0           174.0   \n",
            "3    -114.57     33.64                14.0       1501.0           337.0   \n",
            "4    -114.57     33.57                20.0       1454.0           326.0   \n",
            "\n",
            "   population  households  median_income  median_house_value  \n",
            "0      1015.0       472.0         1.4936             66900.0  \n",
            "1      1129.0       463.0         1.8200             80100.0  \n",
            "2       333.0       117.0         1.6509             85700.0  \n",
            "3       515.0       226.0         3.1917             73400.0  \n",
            "4       624.0       262.0         1.9250             65500.0  \n"
          ]
        }
      ],
      "source": [
        "import pandas as pd\n",
        "import numpy as np\n",
        "\n",
        "# List available files in the sample_data directory\n",
        "import os\n",
        "print(\"Files in /content/sample_data/:\")\n",
        "print(os.listdir('/content/sample_data/'))\n",
        "\n",
        "# Assuming 'hospital data analysis.csv' is not available,\n",
        "# using 'california_housing_train.csv' from sample_data as an example.\n",
        "# Replace with the correct file path if your data is elsewhere.\n",
        "try:\n",
        "    df = pd.read_csv('/content/sample_data/california_housing_train.csv')\n",
        "    print(\"\\nFirst few rows of loaded data:\")\n",
        "    print(df.head())\n",
        "except FileNotFoundError:\n",
        "    print(\"\\nError: The specified file was not found. Please check the file path.\")"
      ]
    },
    {
      "cell_type": "code",
      "source": [
        "print(\"\\nAge column statistics BEFORE cleaning:\")\n",
        "print(df['housing_median_age'].describe())\n",
        "print(\"Any ages < 0? \", (df['housing_median_age'] < 0).sum())\n",
        "print(\"Any ages > 120? \", (df['housing_median_age'] > 120).sum())"
      ],
      "metadata": {
        "colab": {
          "base_uri": "https://localhost:8080/"
        },
        "id": "TiSUSkB8H2qA",
        "outputId": "074960bb-6f20-4ab1-b3de-176b3fedbcee"
      },
      "execution_count": 4,
      "outputs": [
        {
          "output_type": "stream",
          "name": "stdout",
          "text": [
            "\n",
            "Age column statistics BEFORE cleaning:\n",
            "count    17000.000000\n",
            "mean        28.589353\n",
            "std         12.586937\n",
            "min          1.000000\n",
            "25%         18.000000\n",
            "50%         29.000000\n",
            "75%         37.000000\n",
            "max         52.000000\n",
            "Name: housing_median_age, dtype: float64\n",
            "Any ages < 0?  0\n",
            "Any ages > 120?  0\n"
          ]
        }
      ]
    },
    {
      "cell_type": "code",
      "source": [
        "print(\"\\nRows with invalid ages (<0 or >120):\")\n",
        "print(df[df['housing_median_age'] < 0])\n",
        "print(df[df['housing_median_age'] > 120])"
      ],
      "metadata": {
        "colab": {
          "base_uri": "https://localhost:8080/"
        },
        "id": "BGdxx4fUIGle",
        "outputId": "866f2050-7f4b-489f-e503-f0781eae66d4"
      },
      "execution_count": 6,
      "outputs": [
        {
          "output_type": "stream",
          "name": "stdout",
          "text": [
            "\n",
            "Rows with invalid ages (<0 or >120):\n",
            "Empty DataFrame\n",
            "Columns: [longitude, latitude, housing_median_age, total_rooms, total_bedrooms, population, households, median_income, median_house_value]\n",
            "Index: []\n",
            "Empty DataFrame\n",
            "Columns: [longitude, latitude, housing_median_age, total_rooms, total_bedrooms, population, households, median_income, median_house_value]\n",
            "Index: []\n"
          ]
        }
      ]
    },
    {
      "cell_type": "code",
      "source": [
        "df_clean = df[(df['housing_median_age'] >= 0) & (df['housing_median_age'] <= 120)].copy()"
      ],
      "metadata": {
        "id": "NR9E9H9jIRxP"
      },
      "execution_count": 8,
      "outputs": []
    },
    {
      "cell_type": "code",
      "source": [
        "print(\"\\nAge column statistics AFTER cleaning:\")\n",
        "print(df_clean['housing_median_age'].describe())\n",
        "print(\"Any housing_median_age < 0? \", (df_clean['housing_median_age'] < 0).sum())\n",
        "print(\"Any housing_median_age > 120? \", (df_clean['housing_median_age'] > 120).sum())"
      ],
      "metadata": {
        "colab": {
          "base_uri": "https://localhost:8080/"
        },
        "id": "mfxtyxXyIcpB",
        "outputId": "21746379-6e04-407e-808e-7b29d1988d70"
      },
      "execution_count": 10,
      "outputs": [
        {
          "output_type": "stream",
          "name": "stdout",
          "text": [
            "\n",
            "Age column statistics AFTER cleaning:\n",
            "count    17000.000000\n",
            "mean        28.589353\n",
            "std         12.586937\n",
            "min          1.000000\n",
            "25%         18.000000\n",
            "50%         29.000000\n",
            "75%         37.000000\n",
            "max         52.000000\n",
            "Name: housing_median_age, dtype: float64\n",
            "Any housing_median_age < 0?  0\n",
            "Any housing_median_age > 120?  0\n"
          ]
        }
      ]
    },
    {
      "cell_type": "code",
      "source": [
        "print(\"\\nRows before cleaning: \", df.shape[0])\n",
        "print(\"Rows after cleaning: \", df_clean.shape[0])\n",
        "# Save cleaned data if needed\n",
        "df_clean.to_csv('hospital_admissions_data_cleaned.csv', index=False)"
      ],
      "metadata": {
        "colab": {
          "base_uri": "https://localhost:8080/"
        },
        "id": "G6S3FT7zIrEk",
        "outputId": "07f4a103-e457-43af-db29-f7f314d61987"
      },
      "execution_count": 11,
      "outputs": [
        {
          "output_type": "stream",
          "name": "stdout",
          "text": [
            "\n",
            "Rows before cleaning:  17000\n",
            "Rows after cleaning:  17000\n"
          ]
        }
      ]
    },
    {
      "cell_type": "code",
      "source": [
        "# import pandas as pd\n",
        "# from sklearn.preprocessing import MinMaxScaler, StandardScaler\n",
        "# df = pd.read_csv(\"bank-additional-full.csv\", sep=\";\")\n",
        "# print(\"Dataset Shape:\", df.shape)\n",
        "# print(\"\\nNumeric columns available:\\n\", df.select_dtypes(include=['int64','float64']).columns.tolist())"
      ],
      "metadata": {
        "id": "Wp5VknLpIwnz"
      },
      "execution_count": 13,
      "outputs": []
    },
    {
      "cell_type": "code",
      "source": [
        "df_selected = df[[\"median_income\"]].copy()\n",
        "print(\"\\nFirst 10 original values (median_income ~ proxy for income):\")\n",
        "print(df_selected.head(10))"
      ],
      "metadata": {
        "colab": {
          "base_uri": "https://localhost:8080/"
        },
        "id": "2xlzwdBAI7SE",
        "outputId": "fbc72b65-f464-4d82-ff37-970dabbe6cde"
      },
      "execution_count": 15,
      "outputs": [
        {
          "output_type": "stream",
          "name": "stdout",
          "text": [
            "\n",
            "First 10 original values (median_income ~ proxy for income):\n",
            "   median_income\n",
            "0         1.4936\n",
            "1         1.8200\n",
            "2         1.6509\n",
            "3         3.1917\n",
            "4         1.9250\n",
            "5         3.3438\n",
            "6         2.6768\n",
            "7         1.7083\n",
            "8         2.1782\n",
            "9         2.1908\n"
          ]
        }
      ]
    },
    {
      "cell_type": "code",
      "source": [
        "from sklearn.preprocessing import MinMaxScaler\n",
        "\n",
        "min_max_scaler = MinMaxScaler()\n",
        "df_selected[\"median_income_MinMax\"] = min_max_scaler.fit_transform(df_selected[[\"median_income\"]])"
      ],
      "metadata": {
        "id": "P5bx78ecJE5i"
      },
      "execution_count": 17,
      "outputs": []
    },
    {
      "cell_type": "code",
      "source": [
        "print(\"\\nFirst 10 values after scaling:\")\n",
        "print(df_selected.head(10))"
      ],
      "metadata": {
        "colab": {
          "base_uri": "https://localhost:8080/"
        },
        "id": "ddfYvbBQJF_L",
        "outputId": "bc8fe469-ca23-4e2e-bd34-20af6171740d"
      },
      "execution_count": 19,
      "outputs": [
        {
          "output_type": "stream",
          "name": "stdout",
          "text": [
            "\n",
            "First 10 values after scaling:\n",
            "   median_income  median_income_MinMax\n",
            "0         1.4936              0.068530\n",
            "1         1.8200              0.091040\n",
            "2         1.6509              0.079378\n",
            "3         3.1917              0.185639\n",
            "4         1.9250              0.098281\n",
            "5         3.3438              0.196128\n",
            "6         2.6768              0.150129\n",
            "7         1.7083              0.083337\n",
            "8         2.1782              0.115743\n",
            "9         2.1908              0.116612\n"
          ]
        }
      ]
    }
  ]
}