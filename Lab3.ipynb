{
  "nbformat": 4,
  "nbformat_minor": 0,
  "metadata": {
    "colab": {
      "provenance": [],
      "authorship_tag": "ABX9TyNSATn+OpZ45kpZUJ8oyI3I",
      "include_colab_link": true
    },
    "kernelspec": {
      "name": "python3",
      "display_name": "Python 3"
    },
    "language_info": {
      "name": "python"
    }
  },
  "cells": [
    {
      "cell_type": "markdown",
      "metadata": {
        "id": "view-in-github",
        "colab_type": "text"
      },
      "source": [
        "<a href=\"https://colab.research.google.com/github/SnehaKotte/b20_1332/blob/main/Lab3.ipynb\" target=\"_parent\"><img src=\"https://colab.research.google.com/assets/colab-badge.svg\" alt=\"Open In Colab\"/></a>"
      ]
    },
    {
      "cell_type": "code",
      "execution_count": 1,
      "metadata": {
        "colab": {
          "base_uri": "https://localhost:8080/"
        },
        "id": "9-X9u8_gD5Of",
        "outputId": "a6bb6154-5b31-4c73-dfce-0236656c8900"
      },
      "outputs": [
        {
          "output_type": "stream",
          "name": "stdout",
          "text": [
            "Test Scores (4x4):\n",
            " [[53 79 63 86]\n",
            " [50 55 95 53]\n",
            " [74 61 93 86]\n",
            " [80 61 89 96]] \n",
            "\n",
            "Row-wise Means: [70.25 63.25 78.5  81.5 ]\n",
            "Column-wise Means: [64.25 64.   85.   80.25] \n",
            "\n",
            "Standard Deviation (overall): 16.069672523110107\n",
            "Variance (overall): 258.234375 \n",
            "\n",
            "Global Max: 96 at index (np.int64(3), np.int64(3))\n",
            "Global Min: 50 at index (np.int64(1), np.int64(0)) \n",
            "\n",
            "Median (overall): 76.5\n"
          ]
        }
      ],
      "source": [
        "import numpy as np\n",
        "\n",
        "# Generate a 4x4 array of test scores (example: random integers 50–100)\n",
        "scores = np.random.randint(50, 101, size=(4, 4))\n",
        "print(\"Test Scores (4x4):\\n\", scores, \"\\n\")\n",
        "\n",
        "# Row-wise and column-wise means\n",
        "row_means = np.mean(scores, axis=1)\n",
        "col_means = np.mean(scores, axis=0)\n",
        "\n",
        "print(\"Row-wise Means:\", row_means)\n",
        "print(\"Column-wise Means:\", col_means, \"\\n\")\n",
        "\n",
        "# Standard deviation and variance\n",
        "std_dev = np.std(scores)\n",
        "variance = np.var(scores)\n",
        "print(\"Standard Deviation (overall):\", std_dev)\n",
        "print(\"Variance (overall):\", variance, \"\\n\")\n",
        "\n",
        "# Global min and max with indices\n",
        "global_max = np.max(scores)\n",
        "global_min = np.min(scores)\n",
        "max_index = np.unravel_index(np.argmax(scores), scores.shape)\n",
        "min_index = np.unravel_index(np.argmin(scores), scores.shape)\n",
        "\n",
        "print(\"Global Max:\", global_max, \"at index\", max_index)\n",
        "print(\"Global Min:\", global_min, \"at index\", min_index, \"\\n\")\n",
        "\n",
        "# Median\n",
        "median = np.median(scores)\n",
        "print(\"Median (overall):\", median)"
      ]
    },
    {
      "cell_type": "code",
      "source": [
        "import numpy as np\n",
        "\n",
        "# Create a 3x3x3 RGB image (values 0–255)\n",
        "image = np.random.randint(0, 256, (3, 3, 3), dtype=np.uint8)\n",
        "print(\"Original RGB Image Array:\\n\", image, \"\\n\")\n",
        "\n",
        "# Extract color channels using slicing\n",
        "red_channel   = image[:, :, 0]\n",
        "green_channel = image[:, :, 1]\n",
        "blue_channel  = image[:, :, 2]\n",
        "\n",
        "print(\"Red Channel:\\n\", red_channel, \"\\n\")\n",
        "print(\"Green Channel:\\n\", green_channel, \"\\n\")\n",
        "print(\"Blue Channel:\\n\", blue_channel, \"\\n\")\n",
        "\n",
        "# Average intensity per channel\n",
        "avg_red   = np.mean(red_channel)\n",
        "avg_green = np.mean(green_channel)\n",
        "avg_blue  = np.mean(blue_channel)\n",
        "\n",
        "print(\"Average Intensities - R:\", avg_red,\n",
        "      \"G:\", avg_green,\n",
        "      \"B:\", avg_blue, \"\\n\")\n",
        "\n",
        "# Brighten image by adding scalar (clip to 255)\n",
        "bright_image = np.clip(image + 50, 0, 255)\n",
        "print(\"Brightened Image Array:\\n\", bright_image, \"\\n\")"
      ],
      "metadata": {
        "colab": {
          "base_uri": "https://localhost:8080/"
        },
        "id": "22B8bjk3GBgc",
        "outputId": "30eef446-4a13-49a5-d703-586879538cad"
      },
      "execution_count": 2,
      "outputs": [
        {
          "output_type": "stream",
          "name": "stdout",
          "text": [
            "Original RGB Image Array:\n",
            " [[[210 114  34]\n",
            "  [248  60 168]\n",
            "  [123 165 143]]\n",
            "\n",
            " [[188  23 106]\n",
            "  [ 44  42  71]\n",
            "  [161 155 222]]\n",
            "\n",
            " [[ 13 232 135]\n",
            "  [172  96 132]\n",
            "  [176 201  20]]] \n",
            "\n",
            "Red Channel:\n",
            " [[210 248 123]\n",
            " [188  44 161]\n",
            " [ 13 172 176]] \n",
            "\n",
            "Green Channel:\n",
            " [[114  60 165]\n",
            " [ 23  42 155]\n",
            " [232  96 201]] \n",
            "\n",
            "Blue Channel:\n",
            " [[ 34 168 143]\n",
            " [106  71 222]\n",
            " [135 132  20]] \n",
            "\n",
            "Average Intensities - R: 148.33333333333334 G: 120.88888888888889 B: 114.55555555555556 \n",
            "\n",
            "Brightened Image Array:\n",
            " [[[  4 164  84]\n",
            "  [ 42 110 218]\n",
            "  [173 215 193]]\n",
            "\n",
            " [[238  73 156]\n",
            "  [ 94  92 121]\n",
            "  [211 205  16]]\n",
            "\n",
            " [[ 63  26 185]\n",
            "  [222 146 182]\n",
            "  [226 251  70]]] \n",
            "\n"
          ]
        }
      ]
    }
  ]
}